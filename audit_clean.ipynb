{
 "cells": [
  {
   "cell_type": "markdown",
   "metadata": {},
   "source": [
    "## Auditing and cleaning data before EDA in Tableau\n",
    "\n",
    "The goal of this process is to ensure the data is as clean as possible to create visualizations in Tableau."
   ]
  },
  {
   "cell_type": "code",
   "execution_count": 12,
   "metadata": {},
   "outputs": [
    {
     "data": {
      "text/plain": [
       "['.ipynb_checkpoints',\n",
       " '2018-2010_export.csv',\n",
       " '2018-2010_import.csv',\n",
       " 'clean.ipynb',\n",
       " 'create.sql']"
      ]
     },
     "execution_count": 12,
     "metadata": {},
     "output_type": "execute_result"
    }
   ],
   "source": [
    "import os\n",
    "import pandas as pd\n",
    "\n",
    "os.listdir()"
   ]
  },
  {
   "cell_type": "code",
   "execution_count": 14,
   "metadata": {},
   "outputs": [
    {
     "name": "stdout",
     "output_type": "stream",
     "text": [
      "EXPORTS:\n"
     ]
    },
    {
     "data": {
      "text/html": [
       "<div>\n",
       "<style scoped>\n",
       "    .dataframe tbody tr th:only-of-type {\n",
       "        vertical-align: middle;\n",
       "    }\n",
       "\n",
       "    .dataframe tbody tr th {\n",
       "        vertical-align: top;\n",
       "    }\n",
       "\n",
       "    .dataframe thead th {\n",
       "        text-align: right;\n",
       "    }\n",
       "</style>\n",
       "<table border=\"1\" class=\"dataframe\">\n",
       "  <thead>\n",
       "    <tr style=\"text-align: right;\">\n",
       "      <th></th>\n",
       "      <th>HSCode</th>\n",
       "      <th>Commodity</th>\n",
       "      <th>value</th>\n",
       "      <th>country</th>\n",
       "      <th>year</th>\n",
       "    </tr>\n",
       "  </thead>\n",
       "  <tbody>\n",
       "    <tr>\n",
       "      <th>0</th>\n",
       "      <td>2</td>\n",
       "      <td>MEAT AND EDIBLE MEAT OFFAL.</td>\n",
       "      <td>0.18</td>\n",
       "      <td>AFGHANISTAN TIS</td>\n",
       "      <td>2018</td>\n",
       "    </tr>\n",
       "    <tr>\n",
       "      <th>1</th>\n",
       "      <td>3</td>\n",
       "      <td>FISH AND CRUSTACEANS, MOLLUSCS AND OTHER AQUAT...</td>\n",
       "      <td>0.00</td>\n",
       "      <td>AFGHANISTAN TIS</td>\n",
       "      <td>2018</td>\n",
       "    </tr>\n",
       "    <tr>\n",
       "      <th>2</th>\n",
       "      <td>4</td>\n",
       "      <td>DAIRY PRODUCE; BIRDS' EGGS; NATURAL HONEY; EDI...</td>\n",
       "      <td>12.48</td>\n",
       "      <td>AFGHANISTAN TIS</td>\n",
       "      <td>2018</td>\n",
       "    </tr>\n",
       "    <tr>\n",
       "      <th>3</th>\n",
       "      <td>6</td>\n",
       "      <td>LIVE TREES AND OTHER PLANTS; BULBS; ROOTS AND ...</td>\n",
       "      <td>0.00</td>\n",
       "      <td>AFGHANISTAN TIS</td>\n",
       "      <td>2018</td>\n",
       "    </tr>\n",
       "    <tr>\n",
       "      <th>4</th>\n",
       "      <td>7</td>\n",
       "      <td>EDIBLE VEGETABLES AND CERTAIN ROOTS AND TUBERS.</td>\n",
       "      <td>1.89</td>\n",
       "      <td>AFGHANISTAN TIS</td>\n",
       "      <td>2018</td>\n",
       "    </tr>\n",
       "  </tbody>\n",
       "</table>\n",
       "</div>"
      ],
      "text/plain": [
       "   HSCode                                          Commodity  value  \\\n",
       "0       2                        MEAT AND EDIBLE MEAT OFFAL.   0.18   \n",
       "1       3  FISH AND CRUSTACEANS, MOLLUSCS AND OTHER AQUAT...   0.00   \n",
       "2       4  DAIRY PRODUCE; BIRDS' EGGS; NATURAL HONEY; EDI...  12.48   \n",
       "3       6  LIVE TREES AND OTHER PLANTS; BULBS; ROOTS AND ...   0.00   \n",
       "4       7    EDIBLE VEGETABLES AND CERTAIN ROOTS AND TUBERS.   1.89   \n",
       "\n",
       "           country  year  \n",
       "0  AFGHANISTAN TIS  2018  \n",
       "1  AFGHANISTAN TIS  2018  \n",
       "2  AFGHANISTAN TIS  2018  \n",
       "3  AFGHANISTAN TIS  2018  \n",
       "4  AFGHANISTAN TIS  2018  "
      ]
     },
     "metadata": {},
     "output_type": "display_data"
    },
    {
     "name": "stdout",
     "output_type": "stream",
     "text": [
      "IMPORTS:\n"
     ]
    },
    {
     "data": {
      "text/html": [
       "<div>\n",
       "<style scoped>\n",
       "    .dataframe tbody tr th:only-of-type {\n",
       "        vertical-align: middle;\n",
       "    }\n",
       "\n",
       "    .dataframe tbody tr th {\n",
       "        vertical-align: top;\n",
       "    }\n",
       "\n",
       "    .dataframe thead th {\n",
       "        text-align: right;\n",
       "    }\n",
       "</style>\n",
       "<table border=\"1\" class=\"dataframe\">\n",
       "  <thead>\n",
       "    <tr style=\"text-align: right;\">\n",
       "      <th></th>\n",
       "      <th>HSCode</th>\n",
       "      <th>Commodity</th>\n",
       "      <th>value</th>\n",
       "      <th>country</th>\n",
       "      <th>year</th>\n",
       "    </tr>\n",
       "  </thead>\n",
       "  <tbody>\n",
       "    <tr>\n",
       "      <th>0</th>\n",
       "      <td>5</td>\n",
       "      <td>PRODUCTS OF ANIMAL ORIGIN, NOT ELSEWHERE SPECI...</td>\n",
       "      <td>0.00</td>\n",
       "      <td>AFGHANISTAN TIS</td>\n",
       "      <td>2018</td>\n",
       "    </tr>\n",
       "    <tr>\n",
       "      <th>1</th>\n",
       "      <td>7</td>\n",
       "      <td>EDIBLE VEGETABLES AND CERTAIN ROOTS AND TUBERS.</td>\n",
       "      <td>12.38</td>\n",
       "      <td>AFGHANISTAN TIS</td>\n",
       "      <td>2018</td>\n",
       "    </tr>\n",
       "    <tr>\n",
       "      <th>2</th>\n",
       "      <td>8</td>\n",
       "      <td>EDIBLE FRUIT AND NUTS; PEEL OR CITRUS FRUIT OR...</td>\n",
       "      <td>268.60</td>\n",
       "      <td>AFGHANISTAN TIS</td>\n",
       "      <td>2018</td>\n",
       "    </tr>\n",
       "    <tr>\n",
       "      <th>3</th>\n",
       "      <td>9</td>\n",
       "      <td>COFFEE, TEA, MATE AND SPICES.</td>\n",
       "      <td>35.48</td>\n",
       "      <td>AFGHANISTAN TIS</td>\n",
       "      <td>2018</td>\n",
       "    </tr>\n",
       "    <tr>\n",
       "      <th>4</th>\n",
       "      <td>11</td>\n",
       "      <td>PRODUCTS OF THE MILLING INDUSTRY; MALT; STARCH...</td>\n",
       "      <td>NaN</td>\n",
       "      <td>AFGHANISTAN TIS</td>\n",
       "      <td>2018</td>\n",
       "    </tr>\n",
       "  </tbody>\n",
       "</table>\n",
       "</div>"
      ],
      "text/plain": [
       "   HSCode                                          Commodity   value  \\\n",
       "0       5  PRODUCTS OF ANIMAL ORIGIN, NOT ELSEWHERE SPECI...    0.00   \n",
       "1       7    EDIBLE VEGETABLES AND CERTAIN ROOTS AND TUBERS.   12.38   \n",
       "2       8  EDIBLE FRUIT AND NUTS; PEEL OR CITRUS FRUIT OR...  268.60   \n",
       "3       9                      COFFEE, TEA, MATE AND SPICES.   35.48   \n",
       "4      11  PRODUCTS OF THE MILLING INDUSTRY; MALT; STARCH...     NaN   \n",
       "\n",
       "           country  year  \n",
       "0  AFGHANISTAN TIS  2018  \n",
       "1  AFGHANISTAN TIS  2018  \n",
       "2  AFGHANISTAN TIS  2018  \n",
       "3  AFGHANISTAN TIS  2018  \n",
       "4  AFGHANISTAN TIS  2018  "
      ]
     },
     "metadata": {},
     "output_type": "display_data"
    }
   ],
   "source": [
    "exports = pd.read_csv('2018-2010_export.csv')\n",
    "imports = pd.read_csv('2018-2010_import.csv')\n",
    "\n",
    "print(\"EXPORTS:\")\n",
    "display(exports.head())\n",
    "print(\"IMPORTS:\")\n",
    "display(imports.head())"
   ]
  },
  {
   "cell_type": "markdown",
   "metadata": {},
   "source": [
    "## Handling missing data\n",
    "\n",
    "In assessing the null values we will be addressing each of the following points:\n",
    "\n",
    "1. Which features contain null values?\n",
    "2. How many rows contain null values? (What percentage?)\n",
    "3. Why are there null values? (Does it make sense?)\n",
    "4. Final Decision (Drop, Imputation Strategy)"
   ]
  },
  {
   "cell_type": "markdown",
   "metadata": {},
   "source": [
    "**1. Which features contain null values?**"
   ]
  },
  {
   "cell_type": "code",
   "execution_count": 57,
   "metadata": {},
   "outputs": [
    {
     "name": "stdout",
     "output_type": "stream",
     "text": [
      "HSCode       False\n",
      "Commodity    False\n",
      "value         True\n",
      "country      False\n",
      "year         False\n",
      "dtype: bool\n",
      "HSCode       False\n",
      "Commodity    False\n",
      "value         True\n",
      "country      False\n",
      "year         False\n",
      "dtype: bool\n"
     ]
    }
   ],
   "source": [
    "# Columns with null in exports\n",
    "print(exports.isnull().any(),end='\\n')\n",
    "# Columns with null in imports\n",
    "print(imports.isnull().any())"
   ]
  },
  {
   "cell_type": "markdown",
   "metadata": {},
   "source": [
    "The only columns with Null values for both datasets is the variable `value`"
   ]
  },
  {
   "cell_type": "markdown",
   "metadata": {},
   "source": [
    "**2. How many rows contain null values? (What percentage?)**\n",
    "\n",
    "To aid in our decision on how to handle the null values we will examine the proportion of rows with missing values."
   ]
  },
  {
   "cell_type": "code",
   "execution_count": 61,
   "metadata": {},
   "outputs": [
    {
     "name": "stdout",
     "output_type": "stream",
     "text": [
      "PERCENT MISSING IN EXPORTS: 10.0 % 14037/137023\n",
      "PERCENT MISSING IN IMPORTS: 15.0 % 14027/93095\n"
     ]
    }
   ],
   "source": [
    "n_exports = exports.shape[0]\n",
    "null_exports = exports[exports.value.isnull()].shape[0]\n",
    "null_percent_exports = round(null_exports / n_exports, 2) * 100\n",
    "n_imports = imports.shape[0]\n",
    "null_imports = imports[imports.value.isnull()].shape[0]\n",
    "null_percent_imports = round(null_imports / n_imports, 2) * 100\n",
    "\n",
    "print(\"PERCENT MISSING IN EXPORTS:\", null_percent_exports,\"%\", str(null_exports)+\"/\"+str(n_exports))\n",
    "print(\"PERCENT MISSING IN IMPORTS:\", null_percent_imports,\"%\", str(null_imports)+\"/\"+str(n_imports))"
   ]
  },
  {
   "cell_type": "markdown",
   "metadata": {},
   "source": [
    "Both datasets contain over 14K missing values. This constitutes 10-15% of the data. This is a very significant amount of missing values and should be investigated further."
   ]
  },
  {
   "cell_type": "code",
   "execution_count": 67,
   "metadata": {},
   "outputs": [
    {
     "data": {
      "text/plain": [
       "MACAO                                       151\n",
       "ST LUCIA                                    125\n",
       "SWAZILAND                                   120\n",
       "UNSPECIFIED                                 118\n",
       "GUINEA BISSAU                               117\n",
       "BELIZE                                      117\n",
       "DOMINICA                                    117\n",
       "MONTSERRAT                                  116\n",
       "KYRGHYZSTAN                                 112\n",
       "C AFRI REP                                  112\n",
       "BAHAMAS                                     111\n",
       "MARTINIQUE                                  111\n",
       "ARUBA                                       110\n",
       "UNION OF SERBIA & MONTENEGRO                110\n",
       "MOLDOVA                                     109\n",
       "GRENADA                                     109\n",
       "BR VIRGN IS                                 108\n",
       "COMOROS                                     107\n",
       "TURKMENISTAN                                107\n",
       "TAJIKISTAN                                  106\n",
       "BOSNIA-HRZGOVIN                             104\n",
       "ST VINCENT                                  102\n",
       "NIGER                                       102\n",
       "ST KITT N A                                 101\n",
       "NEW CALEDONIA                               100\n",
       "ARMENIA                                      97\n",
       "ERITREA                                      96\n",
       "GUADELOUPE                                   95\n",
       "CUBA                                         95\n",
       "ICELAND                                      95\n",
       "                                           ... \n",
       "SAUDI ARAB                                   14\n",
       "PITCAIRN IS.                                 13\n",
       "SRI LANKA DSR                                13\n",
       "CANADA                                       13\n",
       "NETHERLAND                                   13\n",
       "SOUTH AFRICA                                 12\n",
       "SINGAPORE                                    11\n",
       "BANGLADESH PR                                11\n",
       "GERMANY                                      10\n",
       "COCOS IS                                     10\n",
       "AUSTRALIA                                    10\n",
       "CANARY IS                                     9\n",
       "HEARD MACDONALD                               8\n",
       "FALKLAND IS                                   8\n",
       "VATICAN CITY                                  8\n",
       "U K                                           8\n",
       "MALAYSIA                                      7\n",
       "NIUE IS                                       7\n",
       "PACIFIC IS                                    6\n",
       "CHANNEL IS                                    6\n",
       "FR S ANT TR                                   6\n",
       "U S A                                         6\n",
       "MAYOTTE                                       5\n",
       "NEPAL                                         4\n",
       "STATE OF PALEST                               4\n",
       "GUERNSEY                                      3\n",
       "CURACAO                                       2\n",
       "INSTALLATIONS IN INTERNATIONAL WATERS         1\n",
       "JERSEY                                        1\n",
       "SINT MAARTEN (DUTCH PART)                     1\n",
       "Name: country, Length: 247, dtype: int64"
      ]
     },
     "execution_count": 67,
     "metadata": {},
     "output_type": "execute_result"
    }
   ],
   "source": [
    "missing_edf = exports[exports.value.isnull()]\n",
    "missing_idf = imports[imports.value.isnull()]\n",
    "\n",
    "missing_edf.country.value_counts()"
   ]
  },
  {
   "cell_type": "code",
   "execution_count": 8,
   "metadata": {},
   "outputs": [
    {
     "data": {
      "text/plain": [
       "'VEGETABLE PLAITING MATERIALS; VEGETABLE PRODUCTS NOT ELSEWHERE SPECIFIED OR INCLUDED.'"
      ]
     },
     "execution_count": 8,
     "metadata": {},
     "output_type": "execute_result"
    }
   ],
   "source": [
    "exports['Commodity'].iloc[11]"
   ]
  },
  {
   "cell_type": "code",
   "execution_count": 10,
   "metadata": {},
   "outputs": [
    {
     "name": "stdout",
     "output_type": "stream",
     "text": [
      "OrderedDict([('HSCode', '2'), ('Commodity', 'MEAT AND EDIBLE MEAT OFFAL.'), ('value', '0.18'), ('country', 'AFGHANISTAN TIS'), ('year', '2018')])\n",
      "OrderedDict([('HSCode', '3'), ('Commodity', 'FISH AND CRUSTACEANS, MOLLUSCS AND OTHER AQUATIC INVERTABRATES.'), ('value', '0'), ('country', 'AFGHANISTAN TIS'), ('year', '2018')])\n",
      "OrderedDict([('HSCode', '4'), ('Commodity', \"DAIRY PRODUCE; BIRDS' EGGS; NATURAL HONEY; EDIBLE PROD. OF ANIMAL ORIGIN, NOT ELSEWHERE SPEC. OR INCLUDED.\"), ('value', '12.48'), ('country', 'AFGHANISTAN TIS'), ('year', '2018')])\n",
      "OrderedDict([('HSCode', '6'), ('Commodity', 'LIVE TREES AND OTHER PLANTS; BULBS; ROOTS AND THE LIKE; CUT FLOWERS AND ORNAMENTAL FOLIAGE.'), ('value', '0'), ('country', 'AFGHANISTAN TIS'), ('year', '2018')])\n",
      "OrderedDict([('HSCode', '7'), ('Commodity', 'EDIBLE VEGETABLES AND CERTAIN ROOTS AND TUBERS.'), ('value', '1.89'), ('country', 'AFGHANISTAN TIS'), ('year', '2018')])\n",
      "OrderedDict([('HSCode', '8'), ('Commodity', 'EDIBLE FRUIT AND NUTS; PEEL OR CITRUS FRUIT OR MELONS.'), ('value', '25.01'), ('country', 'AFGHANISTAN TIS'), ('year', '2018')])\n",
      "OrderedDict([('HSCode', '9'), ('Commodity', 'COFFEE, TEA, MATE AND SPICES.'), ('value', '13.75'), ('country', 'AFGHANISTAN TIS'), ('year', '2018')])\n",
      "OrderedDict([('HSCode', '10'), ('Commodity', 'CEREALS.'), ('value', '0.75'), ('country', 'AFGHANISTAN TIS'), ('year', '2018')])\n",
      "OrderedDict([('HSCode', '11'), ('Commodity', 'PRODUCTS OF THE MILLING INDUSTRY; MALT; STARCHES; INULIN; WHEAT GLUTEN.'), ('value', '0.01'), ('country', 'AFGHANISTAN TIS'), ('year', '2018')])\n",
      "OrderedDict([('HSCode', '12'), ('Commodity', 'OIL SEEDS AND OLEA. FRUITS; MISC. GRAINS, SEEDS AND FRUIT; INDUSTRIAL OR MEDICINAL PLANTS; STRAW AND FODDER.'), ('value', '10.02'), ('country', 'AFGHANISTAN TIS'), ('year', '2018')])\n",
      "OrderedDict([('HSCode', '13'), ('Commodity', 'LAC; GUMS, RESINS AND OTHER VEGETABLE SAPS AND EXTRACTS.'), ('value', '0.04'), ('country', 'AFGHANISTAN TIS'), ('year', '2018')])\n",
      "OrderedDict([('HSCode', '14'), ('Commodity', 'VEGETABLE PLAITING MATERIALS; VEGETABLE PRODUCTS NOT ELSEWHERE SPECIFIED OR INCLUDED.'), ('value', '0'), ('country', 'AFGHANISTAN TIS'), ('year', '2018')])\n"
     ]
    }
   ],
   "source": [
    "import csv\n",
    "\n",
    "with open('2018-2010_export.csv') as csvfile:\n",
    "    reader = csv.DictReader(csvfile)\n",
    "    for row in reader:\n",
    "        print(row)\n",
    "        if reader.line_num == 13:\n",
    "            break"
   ]
  },
  {
   "cell_type": "code",
   "execution_count": null,
   "metadata": {},
   "outputs": [],
   "source": []
  }
 ],
 "metadata": {
  "kernelspec": {
   "display_name": "Python 3",
   "language": "python",
   "name": "python3"
  },
  "language_info": {
   "codemirror_mode": {
    "name": "ipython",
    "version": 3
   },
   "file_extension": ".py",
   "mimetype": "text/x-python",
   "name": "python",
   "nbconvert_exporter": "python",
   "pygments_lexer": "ipython3",
   "version": "3.6.8"
  }
 },
 "nbformat": 4,
 "nbformat_minor": 2
}
